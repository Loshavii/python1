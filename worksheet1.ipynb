{
  "nbformat": 4,
  "nbformat_minor": 0,
  "metadata": {
    "colab": {
      "provenance": []
    },
    "kernelspec": {
      "name": "python3",
      "display_name": "Python 3"
    },
    "language_info": {
      "name": "python"
    }
  },
  "cells": [
    {
      "cell_type": "code",
      "execution_count": 3,
      "metadata": {
        "colab": {
          "base_uri": "https://localhost:8080/"
        },
        "id": "20aWBhTGDgFF",
        "outputId": "1c0a2e93-d2f7-40c0-da70-f578a4845092"
      },
      "outputs": [
        {
          "output_type": "stream",
          "name": "stdout",
          "text": [
            "24 Is Even Number\n"
          ]
        }
      ],
      "source": [
        "# Question no1\n",
        "x = 24\n",
        "\n",
        "if x % 24 == 0:\n",
        "    print(x,\"Is Even Number\")\n",
        "else:\n",
        "    print(x, \"Is Odd Number\")"
      ]
    },
    {
      "cell_type": "code",
      "source": [
        "# Question no2\n",
        "age = int(input(\"Enter your age: \"))\n",
        "\n",
        "if age < 18:\n",
        "    print(age, \"is categorized as Minor\")\n",
        "elif 18 <= age < 65:\n",
        "    print(age, \"is categorized as Adult\")\n",
        "else:\n",
        "    print(age, \"is categorized as Senior\")\n"
      ],
      "metadata": {
        "colab": {
          "base_uri": "https://localhost:8080/"
        },
        "id": "O6-rLaA7Fr7F",
        "outputId": "1d72c0ac-c077-403a-aca8-e4cea909c4a7"
      },
      "execution_count": 4,
      "outputs": [
        {
          "output_type": "stream",
          "name": "stdout",
          "text": [
            "Enter your age: 21\n",
            "21 is categorized as Adult\n"
          ]
        }
      ]
    },
    {
      "cell_type": "code",
      "source": [
        "# Question no3\n",
        "\n",
        "temp = float(input(\"Enter the temperature in Celsius: \"))\n",
        "\n",
        "if temp > 30:\n",
        "    print(temp, \"°C is Hot\")\n",
        "elif 15 <= temp <= 30:\n",
        "    print(temp, \"°C is Warm\")\n",
        "else:\n",
        "    print(temp, \"°C is Cold\")\n"
      ],
      "metadata": {
        "colab": {
          "base_uri": "https://localhost:8080/"
        },
        "id": "3qmCoJBOKVyg",
        "outputId": "7c1f5fb1-c1c3-4865-d33e-a6885f154075"
      },
      "execution_count": 5,
      "outputs": [
        {
          "output_type": "stream",
          "name": "stdout",
          "text": [
            "Enter the temperature in Celsius: 35\n",
            "35.0 °C is Hot\n"
          ]
        }
      ]
    },
    {
      "cell_type": "code",
      "source": [
        "# Question no4\n",
        "\n",
        "score = int(input(\"Enter the score: \"))\n",
        "\n",
        "if 90 <= score <= 100:\n",
        "    print(score, \"is Grade A\")\n",
        "elif 80 <= score < 90:\n",
        "    print(score, \"is Grade B\")\n",
        "elif 70 <= score < 80:\n",
        "    print(score, \"is Grade C\")\n",
        "elif 60 <= score < 70:\n",
        "    print(score, \"is Grade D\")\n",
        "else:\n",
        "    print(score, \"is Grade F\")\n"
      ],
      "metadata": {
        "colab": {
          "base_uri": "https://localhost:8080/"
        },
        "id": "xttwjySmKjf3",
        "outputId": "d479788f-2bf4-42fd-fe5c-8e580f497df3"
      },
      "execution_count": 6,
      "outputs": [
        {
          "output_type": "stream",
          "name": "stdout",
          "text": [
            "Enter the score: 95\n",
            "95 is Grade A\n"
          ]
        }
      ]
    },
    {
      "cell_type": "code",
      "source": [
        "# Question no5\n",
        "\n",
        "numbers = list(map(int, input(\"Enter numbers separated by spaces: \").split()))\n",
        "total = sum(numbers)\n",
        "\n",
        "print(\"The sum of the list is:\", total)\n"
      ],
      "metadata": {
        "colab": {
          "base_uri": "https://localhost:8080/"
        },
        "id": "CreelKAcKupc",
        "outputId": "d2a7f682-5bc0-4945-ab96-499e32224509"
      },
      "execution_count": 8,
      "outputs": [
        {
          "output_type": "stream",
          "name": "stdout",
          "text": [
            "Enter numbers separated by spaces: 4 5 8 9\n",
            "The sum of the list is: 26\n"
          ]
        }
      ]
    },
    {
      "cell_type": "code",
      "source": [
        "# Question no6\n",
        "\n",
        "n = int(input(\"Enter a number: \"))\n",
        "\n",
        "print(\"The first 10 multiples of\", n, \"are:\")\n",
        "for i in range(1, 11):\n",
        "    print(n * i)\n"
      ],
      "metadata": {
        "colab": {
          "base_uri": "https://localhost:8080/"
        },
        "id": "Gek7t7c5LSeT",
        "outputId": "353a843e-99f4-42f5-c160-ccaf94d54267"
      },
      "execution_count": 9,
      "outputs": [
        {
          "output_type": "stream",
          "name": "stdout",
          "text": [
            "Enter a number: 5\n",
            "The first 10 multiples of 5 are:\n",
            "5\n",
            "10\n",
            "15\n",
            "20\n",
            "25\n",
            "30\n",
            "35\n",
            "40\n",
            "45\n",
            "50\n"
          ]
        }
      ]
    },
    {
      "cell_type": "code",
      "source": [
        "# Question no7\n",
        "\n",
        "s = input(\"Enter a string: \")\n",
        "\n",
        "print(\"The reverse of the string is:\", s[::-1])\n"
      ],
      "metadata": {
        "colab": {
          "base_uri": "https://localhost:8080/"
        },
        "id": "Bj1Lg3-2LjnP",
        "outputId": "ea993c56-dfb1-475e-f15c-1f9f584140fb"
      },
      "execution_count": 10,
      "outputs": [
        {
          "output_type": "stream",
          "name": "stdout",
          "text": [
            "Enter a string: loshavii\n",
            "The reverse of the string is: iivahsol\n"
          ]
        }
      ]
    },
    {
      "cell_type": "code",
      "source": [
        "# Question no8\n",
        "\n",
        "string = input(\"Enter a string: \")\n",
        "vowels = \"aeiouAEIOU\"\n",
        "count = 0\n",
        "\n",
        "for char in string:\n",
        "    if char in vowels:\n",
        "        count += 1\n",
        "\n",
        "print(\"The number of vowels in the string is:\", count)\n"
      ],
      "metadata": {
        "colab": {
          "base_uri": "https://localhost:8080/"
        },
        "id": "MeELEIY7Lsgp",
        "outputId": "7ed54176-2e70-485b-8564-b869d49f88d9"
      },
      "execution_count": 11,
      "outputs": [
        {
          "output_type": "stream",
          "name": "stdout",
          "text": [
            "Enter a string: loshaviiArulramesh\n",
            "The number of vowels in the string is: 8\n"
          ]
        }
      ]
    },
    {
      "cell_type": "code",
      "source": [
        "# Question no9\n",
        "\n",
        "n = int(input(\"Enter a number to start countdown: \"))\n",
        "\n",
        "while n > 0:\n",
        "    print(n)\n",
        "    n -= 1\n"
      ],
      "metadata": {
        "colab": {
          "base_uri": "https://localhost:8080/"
        },
        "id": "1uWMqljbMui9",
        "outputId": "4bf50c52-b68c-4c46-9951-af4c04b8540e"
      },
      "execution_count": 12,
      "outputs": [
        {
          "output_type": "stream",
          "name": "stdout",
          "text": [
            "Enter a number to start countdown: 5\n",
            "5\n",
            "4\n",
            "3\n",
            "2\n",
            "1\n"
          ]
        }
      ]
    },
    {
      "cell_type": "code",
      "source": [
        "# Question no10\n",
        "\n",
        "import random\n",
        "\n",
        "correct_number = random.randint(1, 100)\n",
        "guess = None\n",
        "\n",
        "while guess != correct_number:\n",
        "    guess = int(input(\"Guess the number (between 1 and 100): \"))\n",
        "\n",
        "    if guess < correct_number:\n",
        "        print(\"Too low!\")\n",
        "    elif guess > correct_number:\n",
        "        print(\"Too high!\")\n",
        "    else:\n",
        "        print(\"Congratulations! You guessed it right!\")\n"
      ],
      "metadata": {
        "colab": {
          "base_uri": "https://localhost:8080/"
        },
        "id": "aXFXSkAaM5VH",
        "outputId": "12f75528-d11b-4ef3-e962-301442a2b68a"
      },
      "execution_count": 13,
      "outputs": [
        {
          "output_type": "stream",
          "name": "stdout",
          "text": [
            "Guess the number (between 1 and 100): 40\n",
            "Too high!\n",
            "Guess the number (between 1 and 100): 30\n",
            "Too high!\n",
            "Guess the number (between 1 and 100): 1\n",
            "Too low!\n",
            "Guess the number (between 1 and 100): 20\n",
            "Too high!\n",
            "Guess the number (between 1 and 100): 10\n",
            "Congratulations! You guessed it right!\n"
          ]
        }
      ]
    },
    {
      "cell_type": "code",
      "source": [
        "# Question no11\n",
        "\n",
        "num = int(input(\"Enter a number to calculate factorial: \"))\n",
        "factorial = 1\n",
        "i = 1\n",
        "\n",
        "while i <= num:\n",
        "    factorial *= i\n",
        "    i += 1\n",
        "\n",
        "print(\"The factorial of\", num, \"is:\", factorial)\n"
      ],
      "metadata": {
        "colab": {
          "base_uri": "https://localhost:8080/"
        },
        "id": "7eDJCPc8NlPm",
        "outputId": "92004a2d-bb3a-4dae-caa8-63cef959eccb"
      },
      "execution_count": 15,
      "outputs": [
        {
          "output_type": "stream",
          "name": "stdout",
          "text": [
            "Enter a number to calculate factorial: 67\n",
            "The factorial of 67 is: 36471110918188685288249859096605464427167635314049524593701628500267962436943872000000000000000\n"
          ]
        }
      ]
    },
    {
      "cell_type": "code",
      "source": [
        "# Question no12\n",
        "\n",
        "n = int(input(\"Enter how many numbers you want in Fibonacci sequence: \"))\n",
        "a, b = 0, 1\n",
        "count = 0\n",
        "\n",
        "while count < n:\n",
        "    print(a, end=' ')\n",
        "    a, b = b, a + b\n",
        "    count += 1\n"
      ],
      "metadata": {
        "colab": {
          "base_uri": "https://localhost:8080/"
        },
        "id": "oYSQzLBMNyU4",
        "outputId": "0039d9eb-a96e-4003-f9d5-724a83eb4585"
      },
      "execution_count": 17,
      "outputs": [
        {
          "output_type": "stream",
          "name": "stdout",
          "text": [
            "Enter how many numbers you want in Fibonacci sequence: 5\n",
            "0 1 1 2 3 "
          ]
        }
      ]
    },
    {
      "cell_type": "code",
      "source": [
        "# Question no13\n",
        "\n",
        "string = input(\"Enter a string: \")\n",
        "print(\"The string in uppercase is:\", string.upper())\n"
      ],
      "metadata": {
        "colab": {
          "base_uri": "https://localhost:8080/"
        },
        "id": "Gk_56iISOGcb",
        "outputId": "92433ce2-febe-4a20-fa55-87e09d2abb4f"
      },
      "execution_count": 18,
      "outputs": [
        {
          "output_type": "stream",
          "name": "stdout",
          "text": [
            "Enter a string: ArULramesH\n",
            "The string in uppercase is: ARULRAMESH\n"
          ]
        }
      ]
    },
    {
      "cell_type": "code",
      "source": [
        "# Question no14\n",
        "\n",
        "num = int(input(\"Enter a number to find its square: \"))\n",
        "print(\"The square of\", num, \"is:\", num ** 2)\n"
      ],
      "metadata": {
        "colab": {
          "base_uri": "https://localhost:8080/"
        },
        "id": "PptGAEY3ON9h",
        "outputId": "11e1513d-d595-4bc6-ac0a-f484697f6f60"
      },
      "execution_count": 19,
      "outputs": [
        {
          "output_type": "stream",
          "name": "stdout",
          "text": [
            "Enter a number to find its square: 6\n",
            "The square of 6 is: 36\n"
          ]
        }
      ]
    },
    {
      "cell_type": "code",
      "source": [
        "# Question no15\n",
        "\n",
        "string = input(\"Enter a string: \")\n",
        "\n",
        "if string == string[::-1]:\n",
        "    print(string, \"is a palindrome\")\n",
        "else:\n",
        "    print(string, \"is not a palindrome\")\n"
      ],
      "metadata": {
        "colab": {
          "base_uri": "https://localhost:8080/"
        },
        "id": "Mv-34OWoOdm6",
        "outputId": "597640f4-d631-4ac5-a48d-ae9be24a24c5"
      },
      "execution_count": 23,
      "outputs": [
        {
          "output_type": "stream",
          "name": "stdout",
          "text": [
            "Enter a string: samas\n",
            "samas is a palindrome\n"
          ]
        }
      ]
    },
    {
      "cell_type": "code",
      "source": [
        "# Question no16\n",
        "\n",
        "numbers = list(map(int, input(\"Enter numbers separated by spaces: \").split()))\n",
        "print(\"The maximum number in the list is:\", max(numbers))\n"
      ],
      "metadata": {
        "colab": {
          "base_uri": "https://localhost:8080/"
        },
        "id": "yU2j8gwBPDpM",
        "outputId": "090b8a91-77e6-428c-875c-3b278edd547a"
      },
      "execution_count": 24,
      "outputs": [
        {
          "output_type": "stream",
          "name": "stdout",
          "text": [
            "Enter numbers separated by spaces: 5 90 70 45 8\n",
            "The maximum number in the list is: 90\n"
          ]
        }
      ]
    }
  ]
}